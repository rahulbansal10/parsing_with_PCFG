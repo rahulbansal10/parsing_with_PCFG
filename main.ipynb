{
 "cells": [
  {
   "cell_type": "code",
   "execution_count": 1,
   "metadata": {
    "colab": {
     "base_uri": "https://localhost:8080/",
     "height": 107
    },
    "colab_type": "code",
    "executionInfo": {
     "elapsed": 3071,
     "status": "ok",
     "timestamp": 1555863807506,
     "user": {
      "displayName": "Rahul Bansal",
      "photoUrl": "https://lh3.googleusercontent.com/-Z7YrcGJvCfc/AAAAAAAAAAI/AAAAAAAAADk/yKx4p_R3LSI/s64/photo.jpg",
      "userId": "00373750895463665640"
     },
     "user_tz": -330
    },
    "id": "n1Gvp-I2eMBm",
    "outputId": "5f71ca3e-45a3-4bbc-ecaf-c7f5a21b2afe"
   },
   "outputs": [
    {
     "name": "stderr",
     "output_type": "stream",
     "text": [
      "[nltk_data] Downloading package treebank to /home/rahul/nltk_data...\n",
      "[nltk_data]   Package treebank is already up-to-date!\n",
      "[nltk_data] Downloading package averaged_perceptron_tagger to\n",
      "[nltk_data]     /home/rahul/nltk_data...\n",
      "[nltk_data]   Package averaged_perceptron_tagger is already up-to-\n",
      "[nltk_data]       date!\n"
     ]
    }
   ],
   "source": [
    "import nltk\n",
    "nltk.download('treebank')\n",
    "nltk.download('averaged_perceptron_tagger')\n",
    "from nltk.corpus import treebank\n",
    "from nltk.grammar import ProbabilisticProduction\n",
    "from nltk.grammar import PCFG\n",
    "from nltk import Nonterminal\n",
    "from nltk.grammar import CFG"
   ]
  },
  {
   "cell_type": "code",
   "execution_count": 2,
   "metadata": {
    "colab": {
     "base_uri": "https://localhost:8080/",
     "height": 91
    },
    "colab_type": "code",
    "executionInfo": {
     "elapsed": 1496,
     "status": "ok",
     "timestamp": 1555863812701,
     "user": {
      "displayName": "Rahul Bansal",
      "photoUrl": "https://lh3.googleusercontent.com/-Z7YrcGJvCfc/AAAAAAAAAAI/AAAAAAAAADk/yKx4p_R3LSI/s64/photo.jpg",
      "userId": "00373750895463665640"
     },
     "user_tz": -330
    },
    "id": "wzO0QIefeQhz",
    "outputId": "3143cadb-f9e1-4133-c623-9e561fe7fb1b"
   },
   "outputs": [],
   "source": [
    "#print(treebank.fileids())\n",
    "#print(treebank.sents(treebank.fileids()))\n",
    "#print(type(treebank.parsed_sents(treebank.fileids()[0])[0]))"
   ]
  },
  {
   "cell_type": "code",
   "execution_count": 3,
   "metadata": {
    "colab": {
     "base_uri": "https://localhost:8080/",
     "height": 35
    },
    "colab_type": "code",
    "executionInfo": {
     "elapsed": 6731,
     "status": "ok",
     "timestamp": 1555863879938,
     "user": {
      "displayName": "Rahul Bansal",
      "photoUrl": "https://lh3.googleusercontent.com/-Z7YrcGJvCfc/AAAAAAAAAAI/AAAAAAAAADk/yKx4p_R3LSI/s64/photo.jpg",
      "userId": "00373750895463665640"
     },
     "user_tz": -330
    },
    "id": "mVrMq4V5_Z1A",
    "outputId": "618cfd1a-f63d-4093-d177-61593694b4dd"
   },
   "outputs": [],
   "source": [
    "from nltk import induce_pcfg\n",
    "# extract productions from three trees and induce the PCFG\n",
    "#print(\"Induce PCFG grammar from treebank data:\")\n",
    "\n",
    "productions = []\n",
    "for item in treebank.fileids()[:200]:\n",
    "  for tree in treebank.parsed_sents(item):\n",
    "    # perform optional tree transformations, e.g.:\n",
    "    tree.collapse_unary(collapsePOS = False)# Remove branches A-B-C into A-B+C\n",
    "    tree.chomsky_normal_form(horzMarkov = 2)# Remove A->(B,C,D) into A->B,C+D->D\n",
    "    #print(tree.productions())\n",
    "    productions += tree.productions()"
   ]
  },
  {
   "cell_type": "code",
   "execution_count": 4,
   "metadata": {
    "colab": {},
    "colab_type": "code",
    "id": "Ne3QyJ1ZixZL"
   },
   "outputs": [],
   "source": [
    "S = Nonterminal('S')\n",
    "gm = CFG(S, productions)"
   ]
  },
  {
   "cell_type": "code",
   "execution_count": 21,
   "metadata": {
    "colab": {
     "base_uri": "https://localhost:8080/",
     "height": 55
    },
    "colab_type": "code",
    "executionInfo": {
     "elapsed": 1373,
     "status": "ok",
     "timestamp": 1555864009529,
     "user": {
      "displayName": "Rahul Bansal",
      "photoUrl": "https://lh3.googleusercontent.com/-Z7YrcGJvCfc/AAAAAAAAAAI/AAAAAAAAADk/yKx4p_R3LSI/s64/photo.jpg",
      "userId": "00373750895463665640"
     },
     "user_tz": -330
    },
    "id": "RQkd_m7sXSnr",
    "outputId": "b674e519-73de-4ba4-8e0e-c2acc93e4a2c"
   },
   "outputs": [
    {
     "name": "stdout",
     "output_type": "stream",
     "text": [
      "how are you man .\n"
     ]
    }
   ],
   "source": [
    "sent = 'how are you man .'\n",
    "#sent = ' '.join((treebank.sents(treebank.fileids()[113])[0]))\n",
    "print(sent)\n",
    "#sent = 'After years of struggling , the Los Angeles Herald Examiner will publish its last edition today .'"
   ]
  },
  {
   "cell_type": "code",
   "execution_count": 22,
   "metadata": {
    "colab": {},
    "colab_type": "code",
    "id": "z3yIBBpAXHGJ"
   },
   "outputs": [],
   "source": [
    "tokens = sent.split()\n",
    "rptokens = sent.split()\n",
    "missing = [tok for tok in tokens if not gm._lexical_index.get(tok)]\n",
    "for i in range(len(tokens)):\n",
    "  if tokens[i] in missing:\n",
    "    #print('Hi')\n",
    "    tp=nltk.tag.pos_tag([tokens[i]])\n",
    "    print(tp)\n",
    "    tokens[i]='UNK'\n",
    "    prd= ProbabilisticProduction(Nonterminal(tp[0][1]), ('UNK',), prob=0.01)\n",
    "    productions.append(prd)"
   ]
  },
  {
   "cell_type": "code",
   "execution_count": 23,
   "metadata": {
    "colab": {},
    "colab_type": "code",
    "id": "CABizmaieZ7o"
   },
   "outputs": [],
   "source": [
    "from nltk.grammar import induce_pcfg\n",
    "S = Nonterminal('S')\n",
    "grammar = induce_pcfg(S, productions)"
   ]
  },
  {
   "cell_type": "code",
   "execution_count": 24,
   "metadata": {
    "colab": {},
    "colab_type": "code",
    "id": "IysR-8oJesMI"
   },
   "outputs": [],
   "source": [
    "from nltk import tokenize\n",
    "from nltk.parse import ViterbiParser\n",
    "\n",
    "#demos = [(' '.join((treebank.sents(treebank.fileids()[113])[0])), grammar)]\n",
    "#sent, grammar = demos[0]\n",
    "#print(sent)\n",
    "\n",
    "parser = ViterbiParser(grammar)"
   ]
  },
  {
   "cell_type": "code",
   "execution_count": 25,
   "metadata": {
    "colab": {},
    "colab_type": "code",
    "id": "R4ZzPtltrIO-"
   },
   "outputs": [
    {
     "name": "stdout",
     "output_type": "stream",
     "text": [
      "(S\n",
      "  (SBAR-NOM-SBJ\n",
      "    (WHADVP-1 (WRB how))\n",
      "    (S (ADJP-PRD (NN are)) (NP-SBJ (PRP you))))\n",
      "  (S|<VP-.> (VP (NN man)) (. .))) (p=1.06141e-25)\n"
     ]
    }
   ],
   "source": [
    "try:\n",
    "  parses = parser.parse_all(tokens)\n",
    "  print(parses[0])\n",
    "except:\n",
    "  print(\"Some words not covered\")"
   ]
  },
  {
   "cell_type": "code",
   "execution_count": 26,
   "metadata": {
    "colab": {
     "base_uri": "https://localhost:8080/",
     "height": 125
    },
    "colab_type": "code",
    "executionInfo": {
     "elapsed": 1344,
     "status": "ok",
     "timestamp": 1555783446673,
     "user": {
      "displayName": "Rahul Bansal",
      "photoUrl": "https://lh3.googleusercontent.com/-Z7YrcGJvCfc/AAAAAAAAAAI/AAAAAAAAADk/yKx4p_R3LSI/s64/photo.jpg",
      "userId": "00373750895463665640"
     },
     "user_tz": -330
    },
    "id": "WUYEh5s6X8KI",
    "outputId": "486ae940-d56e-4e8e-b12c-b80fd0a9af3b"
   },
   "outputs": [
    {
     "name": "stdout",
     "output_type": "stream",
     "text": [
      "(S\n",
      "  (SBAR-NOM-SBJ\n",
      "    (WHADVP-1 (WRB how))\n",
      "    (S (ADJP-PRD (NN are)) (NP-SBJ (PRP you))))\n",
      "  (S|<VP-.> (VP (NN man)) (. .))) (p=1.06141e-25)\n"
     ]
    }
   ],
   "source": [
    "import re\n",
    "\n",
    "a=str(parses[0])\n",
    "print(a)\n",
    "ind=[m.start() for m in re.finditer('UNK', a)]\n",
    "k=0\n",
    "prev=0\n",
    "for i in range(len(tokens)):\n",
    "  if(tokens[i]=='UNK'):\n",
    "    t=ind[k]+prev\n",
    "    print(a[t:t+3],t)\n",
    "    a=a.replace(a[t:t+3],rptokens[i],1)\n",
    "    k=k+1\n",
    "    if(k< len(ind)):\n",
    "       prev=len(rptokens[i])-3"
   ]
  },
  {
   "cell_type": "code",
   "execution_count": 27,
   "metadata": {
    "colab": {
     "base_uri": "https://localhost:8080/",
     "height": 35
    },
    "colab_type": "code",
    "executionInfo": {
     "elapsed": 1177,
     "status": "ok",
     "timestamp": 1555783535291,
     "user": {
      "displayName": "Rahul Bansal",
      "photoUrl": "https://lh3.googleusercontent.com/-Z7YrcGJvCfc/AAAAAAAAAAI/AAAAAAAAADk/yKx4p_R3LSI/s64/photo.jpg",
      "userId": "00373750895463665640"
     },
     "user_tz": -330
    },
    "id": "4NjWl7WplBIc",
    "outputId": "e8966155-0ff2-4d66-9e14-86b8369810b6"
   },
   "outputs": [
    {
     "name": "stdout",
     "output_type": "stream",
     "text": [
      "(S\n",
      "  (SBAR-NOM-SBJ\n",
      "    (WHADVP-1 (WRB how))\n",
      "    (S (ADJP-PRD (NN are)) (NP-SBJ (PRP you))))\n",
      "  (S|<VP-.> (VP (NN man)) (. .))) \n"
     ]
    }
   ],
   "source": [
    "t = a.rfind('(')\n",
    "#print(t)\n",
    "a = a[:t]\n",
    "print(a)"
   ]
  },
  {
   "cell_type": "code",
   "execution_count": 29,
   "metadata": {
    "colab": {
     "base_uri": "https://localhost:8080/",
     "height": 107
    },
    "colab_type": "code",
    "executionInfo": {
     "elapsed": 963,
     "status": "ok",
     "timestamp": 1555783569630,
     "user": {
      "displayName": "Rahul Bansal",
      "photoUrl": "https://lh3.googleusercontent.com/-Z7YrcGJvCfc/AAAAAAAAAAI/AAAAAAAAADk/yKx4p_R3LSI/s64/photo.jpg",
      "userId": "00373750895463665640"
     },
     "user_tz": -330
    },
    "id": "oITXJzksfLKY",
    "outputId": "6f095113-b56b-47bc-e983-2ba76ea1cd99"
   },
   "outputs": [
    {
     "name": "stdout",
     "output_type": "stream",
     "text": [
      "(S\n",
      "  (SBAR-NOM-SBJ\n",
      "    (WHADVP-1 (WRB how))\n",
      "    (S (ADJP-PRD (NN are)) (NP-SBJ (PRP you))))\n",
      "  (S|<VP-.> (VP (NN man)) (. .)))\n"
     ]
    }
   ],
   "source": [
    "#from nltk import Tree\n",
    "#tree = Tree.fromstring(a)\n",
    "#print(tree)"
   ]
  },
  {
   "cell_type": "code",
   "execution_count": 0,
   "metadata": {
    "colab": {},
    "colab_type": "code",
    "id": "Vn96Ujpy7Uzg"
   },
   "outputs": [],
   "source": []
  }
 ],
 "metadata": {
  "accelerator": "GPU",
  "colab": {
   "collapsed_sections": [],
   "name": "main.ipynb",
   "provenance": [],
   "version": "0.3.2"
  },
  "kernelspec": {
   "display_name": "Python 3",
   "language": "python",
   "name": "python3"
  },
  "language_info": {
   "codemirror_mode": {
    "name": "ipython",
    "version": 3
   },
   "file_extension": ".py",
   "mimetype": "text/x-python",
   "name": "python",
   "nbconvert_exporter": "python",
   "pygments_lexer": "ipython3",
   "version": "3.6.7"
  }
 },
 "nbformat": 4,
 "nbformat_minor": 1
}
